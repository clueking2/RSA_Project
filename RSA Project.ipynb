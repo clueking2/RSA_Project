{
 "cells": [
  {
   "cell_type": "markdown",
   "metadata": {},
   "source": [
    "## RSA - The Project"
   ]
  },
  {
   "cell_type": "markdown",
   "metadata": {},
   "source": [
    "Name:  Claire Lueking\n",
    "\n",
   ]
  },
  {
   "cell_type": "markdown",
   "metadata": {},
   "source": [
    "<hr />\n",
    "\n",
    "# Table of Contents\n",
    "\n",
    "### 1. Introduction  \n",
    "\n",
    "### 2. RSA Code Package    \n",
    "###### &nbsp;&nbsp;&nbsp;&nbsp;&nbsp;&nbsp; 2.1 Basic tool set\n",
    "###### &nbsp;&nbsp;&nbsp;&nbsp;&nbsp;&nbsp; 2.2 First tool set\n",
    "###### &nbsp;&nbsp;&nbsp;&nbsp;&nbsp;&nbsp; 2.3 Second tool set\n",
    "\n",
    "### 3. RSA More Code  \n",
    "\n",
    "###### &nbsp;&nbsp;&nbsp;&nbsp;&nbsp;&nbsp;  Encode\n",
    "###### &nbsp;&nbsp;&nbsp;&nbsp;&nbsp;&nbsp;  Decode\n",
    "\n",
    "### 4. Create a demo of encoding and decoding a message that highlights how your code works and the steps involved.   \n",
    "\n",
    "### 5. Results of exchanging codes with others.  \n",
    "\n",
    "### 6. Narrative \n",
    "\n",
    "### 7. Why FME?  \n",
    "\n",
    "### 8. How to break codes  \n",
    "\n",
    "### 9. Code breaking complete examples  \n",
    "\n",
    "### 10. Custom code feature / Advanced options   \n"
   ]
  },
  {
   "cell_type": "markdown",
   "metadata": {},
   "source": []
  },
  {
   "cell_type": "markdown",
   "metadata": {},
   "source": []
  },
  {
   "cell_type": "markdown",
   "metadata": {},
   "source": []
  },
  {
   "cell_type": "markdown",
   "metadata": {},
   "source": [
    "\n",
    "\n",
    "\n",
    "\n",
    "\n"
   ]
  },
  {
   "cell_type": "markdown",
   "metadata": {},
   "source": [
    "\n",
    "\n",
    "\n",
    "\n",
    "\n",
    "\n",
    "### 1. Introduction to your RSA Package and Project. "
   ]
  },
  {
   "cell_type": "markdown",
   "metadata": {},
   "source": [
  
    "\n",
    "##### **RSA Code Package**\n",
    "\n",
    "This project creates several different functions that are used in RSA encryption and decryption. \n",
    "\n",
    "The *basic tool set* sets up three functions that help to process messages that will be encrypted and decrypted in the project. The Convert_Text function converts a text string to a list integers. The Convert_Num function helps to take a list of integers and convert them to string text. The Convert_Binary_String function helps to convert an integer to its binary number form of 1s and 0s.\n",
    "\n",
    "The *first tool set* sets up two functions to calculate the number that equals b^n mod m and to calculate the GCD. The FME function returns a single integer that is the result of calculating b^n mod m using fast modular exponentiation(FME). The Euclidean_Alg function returns the greatest common divisor (GCD) using only positive input numbers. \n",
    "\n",
    "The *second tool set* sets us three functions that help to find the public and private keys needed in encryption and decryption of messages. The Find_Public_Key_e function helps to find the public key, e, needed to encrypt messages with a specific key. The Extended_Euclidean_Alg function is used to find the GCD and Bezout coefficents in order to use the Find_Private_Key_d function. The Find_Private_Key_d function is used to find the decryption key, d that is used to decrypt messages. d is the modular inverse of the encryption key, e.\n",
    "\n",
    "##### **RSA More Code**\n",
    "There are two functions here, Encode and Decode. The encode function is used to encode string text messages by utilizing the numbers created from the Convert_Text function and n and e created from the Find_Public_Key_e function. The decode function is used to decrypt a message presented as a list of integers using n and d from the Find_Private_Key_d function. Additionally, the Convert_Num function uses these n and d to convert the message from numbers to string text.\n",
    "\n",
    "##### **Code DEMO**\n",
    "\n",
    "Here, there is an example presented that calls the functions in one easy-to-follow demonstration of the code to show that the code and thought process works for encrypting and decrypting messages.\n",
    "\n",
    "##### **Exchanging Code Examples**\n",
    "\n",
    "This section shows three examples of exchanging codes with classmates. This is very similar to the Code DEMO section as it calls our functions, but these examples show real world uses for these functions.\n",
    "\n",
    "##### **Narrative**\n",
    "\n",
    "The narrative section describes the process I used to create my functions and be able to use them to encrypt and decrypt messages. This section also describes the process of exchanging codes with classmates, what challenges I faced in the project process, the resources I used in working on the project, and a mistake I made and learned from.\n",
    "\n",
    "##### **Why FME?**\n",
    "\n",
    "This section explains in detail why RSA needs an FME function with example charts and graphs. The graphs and charts help to show that FME is needed to decrease the runtime of the code, making it faster to execute.\n",
    "\n",
    "##### **How to Break Codes**\n",
    "\n",
    "Code breaking is explained in detail with specific steps. We utilize a factorization function as well as the Decode and Encode functions. RSA is somewhat secure for larger ns, but not as much for smaller ones, and it is very difficult to break codes in RSA. In our implementation of RSA, it is not very secure secure. The flaws explained include our ns being small enough to be factored easily and with small n and e it is easy to use a technique based off of the Chinese Remainder Theroem to use multiple encryptions that use the same exponent, e to eventually find the message.\n",
    "\n",
    "##### **Code Breaking Example**\n",
    "\n",
    "Here, I show a detailed example of code breaking as well as 3 other examples where I decode and respond to others' messages using public keys only. I noticed that larger ns take longer to break than smaller ns.\n",
    "\n",
    "##### **Custom Code Feature**\n",
    "\n",
    "In this feature, I created a function, Piazza_Script_Reader, to read scripts created from Piazza conversations in code as .txt files. I utilize the Convert_Num and Decode functions within this new function to help achieve the result of decrypting messages from Piazza.\n",
    "\n"
   ]
  },
  {
   "cell_type": "markdown",
   "metadata": {},
   "source": [
    "### 2.1\n",
    "#### Basic tool set\n",
    "\n",
    "These are functions that you'll need to pre-process the messages before the messages are encoded and decoded by the RSA algorithm. That is the reason we will be defining them first.\n",
    "\n"
   ]
  },
  {
   "cell_type": "code",
   "execution_count": 3,
   "metadata": {},
   "outputs": [
    {
     "name": "stdout",
     "output_type": "stream",
     "text": [
      "These are the tests for Convert_Text:\n",
      "[104, 101, 108, 108, 111]\n",
      "[109, 105, 107, 101]\n",
      "[115, 99, 111, 111, 116, 101, 114]\n"
     ]
    }
   ],
   "source": [
    "def Convert_Text(_string):\n",
    "    \"\"\"\n",
    "    Define this function such that it takes in a simple \n",
    "    string such as \"hello\" and outputs the corresponding\n",
    "    standard list of integers (ascii) for each letter in the word hello.\n",
    "    For example:\n",
    "    _string = hello\n",
    "    integer_list = [104, 101, 108, 108, 111]\n",
    "    \n",
    "    You may use \"ord()\"\n",
    "    \"\"\"\n",
    "    integer_list = []\n",
    "    #each character in the string is turned into an integer by ascii guidelines and then is added to a list (integer_list)\n",
    "    for ch in _string:\n",
    "        integer = ord(ch)\n",
    "        integer_list.append(integer)\n",
    "    return integer_list\n",
    "    integer_list = []\n",
    "\n",
    "    \n",
    "#Tests\n",
    "print(\"These are the tests for Convert_Text:\")\n",
    "print(Convert_Text(\"hello\"))\n",
    "print(Convert_Text(\"mike\"))\n",
    "print(Convert_Text(\"scooter\"))"
   ]
  },
  {
   "cell_type": "code",
   "execution_count": 4,
   "metadata": {},
   "outputs": [
    {
     "name": "stdout",
     "output_type": "stream",
     "text": [
      "These are the tests for Convert_Num:\n",
      "hello\n",
      "Ç8lJs\n",
      "\n",
      "\u000b",
      "dl\n"
     ]
    }
   ],
   "source": [
    "def Convert_Num(_list):\n",
    "    \"\"\"\n",
    "    Do the opposite of what you did in the Convert_Text\n",
    "    function defined above.\n",
    "    \n",
    "    Define this function such that it takes in a list of integers\n",
    "    and outputs the corresponding string (ascii).\n",
    "    \n",
    "    For example:\n",
    "    _list = [104, 101, 108, 108, 111]\n",
    "    _string = hello\n",
    "    \"\"\"\n",
    "    _string = ''\n",
    "    # each number in the list is converted to a character by ascii guidelines\n",
    "    for integer in _list:\n",
    "        _string += chr(integer)\n",
    "    return _string\n",
    "\n",
    "\n",
    "#Tests\n",
    "print(\"These are the tests for Convert_Num:\")\n",
    "print(Convert_Num([104, 101, 108, 108, 111]))\n",
    "print(Convert_Num([199, 56, 108, 74, 115]))\n",
    "print(Convert_Num([10, 11, 100, 108, 150]))"
   ]
  },
  {
   "cell_type": "code",
   "execution_count": 5,
   "metadata": {},
   "outputs": [
    {
     "name": "stdout",
     "output_type": "stream",
     "text": [
      "These are the tests for Convert_Binary_String:\n",
      "1000011\n",
      "1011001\n",
      "1110000100\n"
     ]
    }
   ],
   "source": [
    "def Convert_Binary_String(_int):\n",
    "    \"\"\"\n",
    "    Here, you need to define a function that converts an integer to\n",
    "    a string of its binary expansion.\n",
    "    \n",
    "    For example:\n",
    "    _int = 345\n",
    "    bits = 101011001\n",
    "    \"\"\"\n",
    "    #bin function converts integer to binary number, but starts with '0b'\n",
    "    bits = bin(_int)\n",
    "    bits = bits[2:]\n",
    "  \n",
    "    #returning bits as binary number without extra two characters that were removeds in previous step\n",
    "    return bits\n",
    "\n",
    "\n",
    "#Tests\n",
    "print(\"These are the tests for Convert_Binary_String:\")\n",
    "print(Convert_Binary_String(67))\n",
    "print(Convert_Binary_String(89))\n",
    "print(Convert_Binary_String(900))"
   ]
  },
  {
   "cell_type": "markdown",
   "metadata": {},
   "source": [
    "Now that you're done with the basic toolset we'll move on to the first tool set which is actually involved in the RSA system."
   ]
  },
  {
   "cell_type": "markdown",
   "metadata": {},
   "source": [
    "### 2.2 \n",
    "#### First tool set.\n",
    "\n"
   ]
  },
  {
   "cell_type": "code",
   "execution_count": 6,
   "metadata": {},
   "outputs": [
    {
     "name": "stdout",
     "output_type": "stream",
     "text": [
      "These are the tests for FME:\n",
      "436\n",
      "1\n",
      "27\n",
      "22\n",
      "1076\n",
      "335\n"
     ]
    }
   ],
   "source": [
    "#uses fast modular exponentiation to find x = b^n mod m\n",
    "def FME(b, n, m):\n",
    "    \"\"\"\n",
    "    1. Using the fast modular exponentiation algorithm,\n",
    "    the below function should return b**n mod m.\n",
    "    As described on page 254. (however, you may input the exponent and \n",
    "    then convert it to a string - the book verison imports the binary expansion)  \n",
    "    2. You should use the function defined above Convert_Binary_String() if using the book algorithm.\n",
    "    3. For this block you MUST use one of the 3 methods offered in the Mastery Workbook.\n",
    "    4. Any method using bit-shifting or copied from the internet (even changing varibale names) will result in a 0.\n",
    "    5. **If you are completely stuck, you may use pow() with a 10pt penalty.**\n",
    "\n",
    "    You may use the function you developed in your Mastery Workbook - but be sure it is your own\n",
    "    work, commented, etc. and change inputs as needed.\n",
    "    \"\"\"  \n",
    "    # My work follows the book algorithm\n",
    "    \n",
    "    #change n as a number to the binary version of the number\n",
    "    binary_n = Convert_Binary_String(n)\n",
    "    \n",
    "    #setting variables up to use in for loop\n",
    "    k = len(binary_n)\n",
    "    x = 1\n",
    "    power = b % m\n",
    "    \n",
    "    #for loop through binary_n\n",
    "    for i in range(k):\n",
    "        ai = int(binary_n[-i-1])\n",
    "        \n",
    "        #if statement to show what to do if ai == 1 (run the next line)\n",
    "        if ai == 1:\n",
    "            x = (x * power) % m\n",
    "            \n",
    "      #run this regardless of the if statement being satisfied (its within for loop not if block)\n",
    "        power = (power * power) % m\n",
    "        \n",
    "    return x\n",
    "\n",
    "\n",
    "#Tests\n",
    "print(\"These are the tests for FME:\")\n",
    "print(FME(7,644,645))\n",
    "print(FME(11,644,645))\n",
    "print(FME(3,2003,99))\n",
    "print(FME(123,1001,101))\n",
    "print(FME(1807, 13, 2537))\n",
    "print(FME(1404, 13, 2537))"
   ]
  },
  {
   "cell_type": "code",
   "execution_count": 7,
   "metadata": {},
   "outputs": [
    {
     "name": "stdout",
     "output_type": "stream",
     "text": [
      "These are the tests for Euclidean_Alg:\n",
      "16\n",
      "128\n",
      "45\n",
      "18\n",
      "1\n"
     ]
    }
   ],
   "source": [
    "#Calculates the GCD of two positive numbers\n",
    "def Euclidean_Alg(a, b):\n",
    "    \"\"\"\n",
    "    1. Calculate the Greatest Common Divisor of a and b.\n",
    "    \n",
    "    2. This version should have only postive inputs and outputs.\n",
    "    \n",
    "    3. The function must return a single integer ('x') which is\n",
    "    the gcd of a and b.\n",
    "    \n",
    "    \n",
    "    \"\"\"\n",
    "    #a and b must both be positive and this raises an error if not\n",
    "    if a <= 0 or b <= 0:\n",
    "        raise ValueError(\"a and b must both be positive\") \n",
    "    \n",
    "    x = a\n",
    "    y = b\n",
    "    \n",
    "    #while loop operates for every y except 0; \n",
    "    #subsequent iterations replace x with y in the remainder variable; y is replaced with the previous iteration's remainder\n",
    "    while y!= 0:\n",
    "        remainder = x % y\n",
    "        x = y\n",
    "        y = remainder\n",
    "    return x\n",
    "  \n",
    "    \n",
    "#Tests\n",
    "print(\"These are the tests for Euclidean_Alg:\")\n",
    "print(Euclidean_Alg(16,32))\n",
    "print(Euclidean_Alg(256,128))\n",
    "print(Euclidean_Alg(90,135))\n",
    "print(Euclidean_Alg(252,198))\n",
    "print(Euclidean_Alg(43,59))\n",
    "#print(Euclidean_Alg(-3,3))"
   ]
  },
  {
   "cell_type": "markdown",
   "metadata": {},
   "source": [
    "### 2.3\n",
    "#### Second tool set\n",
    "\n",
    "Here we will implement the core of the RSA cryptosystem. The functions below will generate the public and private key pairs which will then be used to create a ciphertext using the public key and then decode the same using the pirvate key.\n",
    "\n"
   ]
  },
  {
   "cell_type": "code",
   "execution_count": 8,
   "metadata": {},
   "outputs": [
    {
     "name": "stdout",
     "output_type": "stream",
     "text": [
      "These are the tests for Public_Key_e (for n and e):\n",
      "(213, 9)\n",
      "(5151, 3)\n",
      "(571000, 7)\n",
      "(2537, 5)\n"
     ]
    }
   ],
   "source": [
    "# find public key e (and n) using two primes p and q\n",
    "def Find_Public_Key_e(p, q):\n",
    "    \"\"\"\n",
    "    Implement this function such that\n",
    "    it takes 2 primes p and q.\n",
    "    \n",
    "    Use the gcd function that you have \n",
    "    defined before.\n",
    "    \n",
    "    The function should return 2 elements as follows:\n",
    "    public key: n\n",
    "    public key: e\n",
    "    \n",
    "    HINT: this function will run a loop to find e such \n",
    "    that e is relatively prime to (p - 1) (q - 1) \n",
    "    and not equal to p or q.\n",
    "    \n",
    "    NOTE: There are a number of ways to implement this key feature. \n",
    "    You, as the coder, can choose to how to acheive this goal.\n",
    "    \n",
    "    \"\"\"\n",
    "    #assign basic variables to be used in for loop\n",
    "    n = p * q\n",
    "    mod_base = (p - 1) * (q - 1)\n",
    "    \n",
    "    #initialize accumulator for the for loop\n",
    "    e = 2\n",
    "    \n",
    "    #while loop helps to return the n, a positive integer that is the product of two different primes p and q, and the public key, e\n",
    "    #the loop finds the GCD of e and mod_base and if it is equal to 1 as well as p and q not equaling that e, then the iteration stops, \n",
    "    #but if not, e is updated by +1\n",
    "    while e < mod_base:\n",
    "        if Euclidean_Alg(e, mod_base) == 1 and e!= p and e != q:\n",
    "            break\n",
    "        e += 1\n",
    "    return n, e\n",
    "\n",
    "\n",
    "#Tests\n",
    "print(\"These are the tests for Public_Key_e (for n and e):\")\n",
    "print(Find_Public_Key_e(3,71))\n",
    "print(Find_Public_Key_e(51,101))\n",
    "print(Find_Public_Key_e(1000,571))\n",
    "print(Find_Public_Key_e(43,59))"
   ]
  },
  {
   "cell_type": "code",
   "execution_count": 9,
   "metadata": {},
   "outputs": [
    {
     "name": "stdout",
     "output_type": "stream",
     "text": [
      "These are the tests for Extended_Euclidean_Alg:\n",
      "(13, (-3, 1))\n",
      "(4, (-24, 17))\n",
      "(1, (34, -55))\n",
      "(11, (-999, 10))\n",
      "(7, (-2, 11))\n",
      "(3, (19, -2))\n",
      "These are the tests for Find_Private_Key_d:\n",
      "269\n",
      "937\n"
     ]
    }
   ],
   "source": [
    "#finds GCD of two positive numbers and the Bezout coefficents\n",
    "def Extended_Euclidean_Alg(a, b):\n",
    "    \"\"\"\n",
    "    Returns gcd(a,b), (s,t) such that gcd(a,b) = s*a + t*b\n",
    "    \"\"\"\n",
    "    #makes sure both a and b are positive or it outputs an error message\n",
    "    if a <= 0 or b <= 0:\n",
    "        raise ValueError(\"a and b must both be positive\")   \n",
    "\n",
    "    #Sriram's Algorithim for EEA    \n",
    "    a0 = a\n",
    "    b0 = b\n",
    "    (s1, t1) = (1, 0)\n",
    "    (s2, t2) = (0, 1)\n",
    "    \n",
    "    #while loop creates a remainder,k, a quotient,q, and updates a and b as well as Bezout's coefficents (s1,t1) and (s2,t2)\n",
    "    while b > 0:\n",
    "        k = a % b\n",
    "        q = a // b\n",
    "        a = b\n",
    "        b = k\n",
    "        (s3, t3) = (s2, t2)\n",
    "        (s4, t4) = (s1 - q * s2, t1 - q * t2)\n",
    "        (s1, t1) = (s3, t3)\n",
    "        (s2, t2) = (s4, t4)\n",
    "    \n",
    "    #returns integer a and Bezout's coefficents (s1,t1)\n",
    "    return a, (s1,t1)\n",
    "\n",
    "\n",
    "#Tests\n",
    "print(\"These are the tests for Extended_Euclidean_Alg:\")\n",
    "print(Extended_Euclidean_Alg(26,91))    \n",
    "print(Extended_Euclidean_Alg(252,356)) \n",
    "print(Extended_Euclidean_Alg(144,89)) \n",
    "print(Extended_Euclidean_Alg(1001,100001)) \n",
    "print(Extended_Euclidean_Alg(189,35)) \n",
    "print(Extended_Euclidean_Alg(21,198)) \n",
    "\n",
    "\n",
    "#finds private key d using the previously obtained e from the previously defined primes p and q\n",
    "def Find_Private_Key_d(e, p, q):\n",
    "    \"\"\"\n",
    "    Implement this function to find the decryption exponent d, \n",
    "    such that d is the modular inverse of e. \n",
    "    \n",
    "    This will use the Extended Euclidean Algorithm\n",
    "    \n",
    "    This function should return the following:\n",
    "    d: the decryption component.\n",
    "    \n",
    "    This is not a single action, and there are multiple methods to create this. \n",
    "    \n",
    "    You may create a helper function or have all code within this function.\n",
    "    \n",
    "    Plan ahead before coding this.\n",
    "\n",
    "    \"\"\"\n",
    "    #gcd (a,b) == x * a + b * y\n",
    "    # a = e and b = (p-1)*(q-1)\n",
    "    gcd, (x, y) = Extended_Euclidean_Alg(e, (p - 1) * (q - 1))\n",
    "  \n",
    "    if gcd != 1:\n",
    "        raise ValueError(\"e is not relatively prime to (p - 1) * (q - 1)\")\n",
    "   \n",
    "    # d is the remainder from x being divided by ((p - 1) * (q - 1))\n",
    "    d = x % ((p - 1) * (q - 1))\n",
    "\n",
    "    return d\n",
    "\n",
    "\n",
    "#Tests\n",
    "print(\"These are the tests for Find_Private_Key_d:\")\n",
    "print(Find_Private_Key_d(285, 5, 75))\n",
    "print(Find_Private_Key_d(13, 43, 59))"
   ]
  },
  {
   "cell_type": "markdown",
   "metadata": {},
   "source": [
    "### 3.\n",
    "#### Putting things all together.\n",
    "\n",
    "1. In this part, you will define two functions `Encode` and `Decode` which will use the public and private keys that you calculated using the above 2 functions in the second toolset.\n",
    "2. Using the public key, the `Encode` function will encode a message and generate the corresponding cipher_text.\n",
    "3. Using the private key, the `Decode` function will decode a ciper_text and recover the original message.\n",
    "\n"
   ]
  },
  {
   "cell_type": "code",
   "execution_count": 10,
   "metadata": {},
   "outputs": [
    {
     "name": "stdout",
     "output_type": "stream",
     "text": [
      "These are the tests for encoding messages:\n",
      "2537 5\n",
      "[492, 2102, 1716, 1716, 67]\n",
      "[1009, 2102, 1716, 1716, 67, 1076, 70, 98, 70, 1177, 1780, 70, 1177, 70, 392, 67, 1281, 67, 2033, 1705]\n",
      "[1815, 1177, 1665, 2025, 1718, 70, 877, 67, 1718]\n"
     ]
    }
   ],
   "source": [
    "#Encoding messages using n, a product of two different primes, public key, e, and the message\n",
    "def Encode(n, e, message):\n",
    "    \"\"\"\n",
    "    Here, the message will be a string of characters.\n",
    "    Use the function Convert_Text from \n",
    "    the basic tool set and get a list of numbers.\n",
    "    \n",
    "    Encode each of these numbers using n and e and\n",
    "    return the encoded cipher_text.\n",
    "    \"\"\"\n",
    "    #Convert string message to integers\n",
    "    numbers = Convert_Text(message)\n",
    "    cipher_text = []\n",
    "    \n",
    "    #for loop that adds ctext to the list cipher_text via using the pow function which states (num^e) mod n\n",
    "    for num in numbers:\n",
    "        ctext = pow(num, e, n)\n",
    "        cipher_text.append(ctext)\n",
    "    return cipher_text\n",
    "\n",
    "\n",
    "#Tests\n",
    "print(\"These are the tests for encoding messages:\")\n",
    "p = 43\n",
    "q = 59\n",
    "n, e = Find_Public_Key_e(p, q)\n",
    "print(n, e)\n",
    "\n",
    "d = Find_Private_Key_d(e, p, q)\n",
    "\n",
    "m1 = Encode(n, e, 'hello')\n",
    "m2 = Encode(n, e, 'Hello, I am a robot.')\n",
    "m3 = Encode(n, e, 'Jacky Boy')\n",
    "print(m1)\n",
    "print(m2)\n",
    "print(m3)"
   ]
  },
  {
   "cell_type": "code",
   "execution_count": 11,
   "metadata": {},
   "outputs": [
    {
     "name": "stdout",
     "output_type": "stream",
     "text": [
      "These are the tests for decoding messages:\n",
      "hello\n",
      "Hello, I am a robot.\n",
      "Jacky Boy\n"
     ]
    }
   ],
   "source": [
    "#decodes messages from integers to string text using n, the product of two differrent primes, d, the private key, and the cipher_text\n",
    "def Decode(n, d, cipher_text):\n",
    "    \"\"\"\n",
    "    Here, the cipher_text will be a list of integers.\n",
    "    First, you will decrypt each of those integers using \n",
    "    n and d.\n",
    "    \n",
    "    Later, you will need to use the function Convert_Num from the \n",
    "    basic toolset to recover the original message as a string. \n",
    "    \n",
    "    \"\"\"\n",
    "    decrypted_nums = []\n",
    "    \n",
    "    message = ''\n",
    "    \n",
    "    #for loop that takes an integer in cipher_text and raises it to power d then mods it by n and adds that result to the decrypted nums list\n",
    "    for cipher_num in cipher_text:\n",
    "        original_num = pow(cipher_num, d, n)\n",
    "        decrypted_nums.append(original_num)\n",
    "    \n",
    "    #convert integers to string message\n",
    "    message = Convert_Num(decrypted_nums)\n",
    "    return message\n",
    "\n",
    "\n",
    "#Tests\n",
    "print(\"These are the tests for decoding messages:\")\n",
    "print(Decode(n, d, m1))\n",
    "print(Decode(n, d, m2))\n",
    "print(Decode(n, d, m3))"
   ]
  },
  {
   "cell_type": "markdown",
   "metadata": {
    "tags": []
   },
   "source": [
    "### 4.  Create a Demo \n",
    "This is a **step-by-step** guide to using your code with a specific example that we can follow using the functions you have created above in a mix of code and text blocks. \n",
    "\n",
    "**This is essentially a test that demonstates that your code works and how it works. You will call the functions above. You are not using a main function or custom feature here - just calling the functions.**\n",
    "\n",
    "Imagine you are showing me how you code works in person. \n",
    "Your function calls show how it works with an example.\n",
    "You text s what you would say to me.\n",
    "\n",
    "It is mix of code blocks and **text blocks** and must discuss all three parts of the project for full credit. You must **show and explain your method and demonstrate (by calling your function as an example.** for generating keys and how your encoding and decoding functions work. \n",
    "\n",
    "\n",
    "* Generate keys. \n",
    "\n",
    "* Encode a message.\n",
    "\n",
    "* Decode the same message. \n"
   ]
  },
  {
   "cell_type": "markdown",
   "metadata": {},
   "source": [
    "#### First: We assign two positive relatively prime numbers to p and q. This helps us to ensure our outputs run properly (without error)."
   ]
  },
  {
   "cell_type": "code",
   "execution_count": 12,
   "metadata": {},
   "outputs": [
    {
     "name": "stdout",
     "output_type": "stream",
     "text": [
      "43 59\n"
     ]
    }
   ],
   "source": [
    "#Assigning starting variables for test case\n",
    "p = 43\n",
    "q = 59\n",
    "\n",
    "print(p,q)"
   ]
  },
  {
   "cell_type": "markdown",
   "metadata": {},
   "source": [
    "#### Second: We generate the public key by using p and q and plugging them into the Find_Public_Key_e function (that calls the Euclidean_Alg function) to output our n, that is the product of two different primes p and q, and our e, the public key."
   ]
  },
  {
   "cell_type": "code",
   "execution_count": 13,
   "metadata": {},
   "outputs": [
    {
     "name": "stdout",
     "output_type": "stream",
     "text": [
      "This is n and the Public Key e: 2537 5\n"
     ]
    }
   ],
   "source": [
    "#Find the public key with the inputs assigned above \n",
    "n, e = Find_Public_Key_e(p, q)\n",
    "print(\"This is n and the Public Key e:\", n, e)"
   ]
  },
  {
   "cell_type": "markdown",
   "metadata": {},
   "source": [
    "#### Third: We find our private key, d, by using our newfound public key, e, and the p and q from above using the Find_Private_Key_d function (that uses the Extended_Euclidean_Alg function). The Extedned_Euclidean_Alg function is used inside the Find_Private_Key_d function to find the greatest common divisor(GCD) and the Bezout coefficents for ?????."
   ]
  },
  {
   "cell_type": "code",
   "execution_count": 14,
   "metadata": {},
   "outputs": [
    {
     "name": "stdout",
     "output_type": "stream",
     "text": [
      "This is the Private Key d: 1949\n"
     ]
    }
   ],
   "source": [
    "#find the private key based on public key e and previously assigned p and q\n",
    "d = Find_Private_Key_d(e, p, q)\n",
    "print(\"This is the Private Key d:\", d)"
   ]
  },
  {
   "cell_type": "markdown",
   "metadata": {},
   "source": [
    "#### Fourth: We write a string message and assign it to a variable. We then call the Encode function to encode the message to numbers using our n, a positive integer that is the product of two different primes p and q, and our e, the public key. This function calls the Convert_Text function which converts the string message to numbers"
   ]
  },
  {
   "cell_type": "code",
   "execution_count": 15,
   "metadata": {},
   "outputs": [
    {
     "name": "stdout",
     "output_type": "stream",
     "text": [
      "This is encoded m1: [1009, 2102, 1716, 1716, 67, 1076, 70, 98, 70, 1177, 1780, 70, 1177, 70, 392, 67, 1281, 67, 2033, 1705]\n"
     ]
    }
   ],
   "source": [
    "#encode the string messages to integers \n",
    "m1 = 'Hello, I am a robot.'\n",
    "message = Encode(n, e, m1)\n",
    "print(\"This is encoded m1:\", message)"
   ]
  },
  {
   "cell_type": "markdown",
   "metadata": {},
   "source": [
    "#### Fifth: We call the Decode function to decode the message to string text using our n, that is the product of two different primes p and q, and our d, the private key. The Decode function calls the Convert_Num function to convert the numbers to string text."
   ]
  },
  {
   "cell_type": "code",
   "execution_count": 16,
   "metadata": {},
   "outputs": [
    {
     "name": "stdout",
     "output_type": "stream",
     "text": [
      "This is decoded m1: Hello, I am a robot.\n"
     ]
    }
   ],
   "source": [
    "# Decode the integer messages to their respective string messages\n",
    "decoded_message = Decode(n, d, message)\n",
    "print(\"This is decoded m1:\", decoded_message)"
   ]
  },
  {
   "cell_type": "markdown",
   "metadata": {},
   "source": [
    "### 5. Code Exchange\n",
    "Now that your code is working and you are able read and write message, include 3 complete examples of exhanging code from Piazza here. Put BOTH the code and solutions here. "
   ]
  },
  {
   "cell_type": "code",
   "execution_count": 17,
   "metadata": {},
   "outputs": [
    {
     "name": "stdout",
     "output_type": "stream",
     "text": [
      "Decoded instructor message/question: What song best describes the feeling you get when your RSA code is working?\n",
      "My encoded message response: [427, 58, 762, 1349, 1262, 1263, 1974, 1262, 897, 2371, 1150, 2497, 2497, 1974, 1262, 1456, 4250, 3336, 1150, 590, 1262, 4592, 1150, 2405, 3336, 1262, 4250, 3336, 3336, 2405, 519, 2497, 3283, 1105, 2497, 1349, 1262, 1150, 58, 762, 1349, 1262, 3283, 1105, 2818]\n",
      "My decoded response message: Hurt by Johnny Cash; This assignment hurt me.\n",
      "The instructor's decoded response message: Welcome Clarie! The Cash version is amazing. But wow! you have posted early. Great work. \n"
     ]
    }
   ],
   "source": [
    "#Instructor given keys\n",
    "n = 5251\n",
    "e = 3\n",
    "d = 3403\n",
    "\n",
    "#Instructor message/question\n",
    "Message1 = [2128, 1150, 4250, 1349, 1262, 3336, 2371, 2497, 519, 1262, 1263, 1105, 3336, 1349, 1262, 2310, 1105, 3336, 4115, 762, 2405, 1263, 1105, 3336, 1262, 1349, 1150, 1105, 1262, 506, 1105, 1105, 4723, 2405, 2497, 519, 1262, 1974, 2371, 58, 1262, 519, 1105, 1349, 1262, 4839, 1150, 1105, 2497, 1262, 1974, 2371, 58, 762, 1262, 13, 4679, 1573, 1262, 4115, 2371, 2310, 1105, 1262, 2405, 3336, 1262, 4839, 2371, 762, 1560, 2405, 2497, 519, 3250]\n",
    "print(\"Decoded instructor message/question:\", Decode(n,d,Message1))\n",
    "\n",
    "#My Response\n",
    "Decodedresponse = 'Hurt by Johnny Cash; This assignment hurt me.'\n",
    "Message2 = Encode(n, e, Decodedresponse)\n",
    "print(\"My encoded message response:\", Encode(n, e, Decodedresponse))\n",
    "print(\"My decoded response message:\", Decode(n, d, Message2))\n",
    "\n",
    "#Instructor Response\n",
    "Message3 = [2128, 1105, 4723, 4115, 2371, 3283, 1105, 1262, 1456, 4723, 4250, 762, 2405, 1105, 4431, 1262, 4592, 1150, 1105, 1262, 1456, 4250, 3336, 1150, 1262, 4720, 1105, 762, 3336, 2405, 2371, 2497, 1262, 2405, 3336, 1262, 4250, 3283, 4250, 4253, 2405, 2497, 519, 2818, 1262, 3942, 58, 1349, 1262, 4839, 2371, 4839, 4431, 1262, 1974, 2371, 58, 1262, 1150, 4250, 4720, 1105, 1262, 2911, 2371, 3336, 1349, 1105, 2310, 1262, 1105, 4250, 762, 4723, 1974, 2818, 1262, 843, 762, 1105, 4250, 1349, 1262, 4839, 2371, 762, 1560, 2818, 1262]\n",
    "print(\"The instructor's decoded response message:\", Decode(n,d,Message3))"
   ]
  },
  {
   "cell_type": "code",
   "execution_count": 18,
   "metadata": {},
   "outputs": [
    {
     "name": "stdout",
     "output_type": "stream",
     "text": [
      "This is the decoded student question: Let's see if this thing works. What's your favorite pizza topping?\n",
      "This is my encoded response to the question: [1315, 825, 607, 1154, 815, 203, 825, 1476, 27, 716, 203, 776, 1476, 1476, 607, 203, 825, 1154, 716, 825, 1476, 27, 571, 571, 776, 1507, 825, 1315, 1095, 825, 27, 497, 825, 1095, 1096, 203, 825, 1262, 203, 497, 1095, 1507]\n",
      "This is my decoded response: I love pineapple on pizza. It is the best.\n"
     ]
    }
   ],
   "source": [
    "#Student given keys\n",
    "n,e = 1649, 115 #Public key\n",
    "n,d = 1649, 187 #Private key\n",
    "\n",
    "#Student message/question\n",
    "Message = [155, 203, 1095, 23, 497, 825, 497, 203, 203, 825, 27, 1105, 825, 1095, 1096, 27, 497, 825, 1095, 1096, 27, 716, 188, 825, 1530, 1154, 317, 890, 497, 1507, 825, 1147, 1096, 776, 1095, 23, 497, 825, 722, 1154, 536, 317, 825, 1105, 776, 815, 1154, 317, 27, 1095, 203, 825, 1476, 27, 571, 571, 776, 825, 1095, 1154, 1476, 1476, 27, 716, 188, 504]\n",
    "print(\"This is the decoded student question:\", Decode(n,d,Message))\n",
    "\n",
    "#My Response\n",
    "message_decoded = 'I love pineapple on pizza. It is the best.'\n",
    "print(\"This is my encoded response to the question:\", Encode(n,e,message_decoded))\n",
    "print(\"This is my decoded response:\", Decode(n,d,Encode(n,e,message_decoded)))"
   ]
  },
  {
   "cell_type": "code",
   "execution_count": 19,
   "metadata": {},
   "outputs": [
    {
     "name": "stdout",
     "output_type": "stream",
     "text": [
      "This is my encoded message: [1248, 492, 1177, 2033, 70, 761, 2471, 70, 1718, 67, 353, 392, 70, 2214, 1177, 2478, 67, 392, 761, 2033, 2102, 70, 1281, 67, 67, 2025, 198]\n",
      "This is my decoded message: What is your favorite book?\n",
      "This is the student reply: My CSPB 2823 textbook, of course.\n"
     ]
    }
   ],
   "source": [
    "#my keys to encode and decode message\n",
    "n,e = 2537, 5 #Public Key\n",
    "n,d = 2537, 1949 # Private Key\n",
    "\n",
    "#my message/question\n",
    "message_a = 'What is your favorite book?'\n",
    "message_a_code = [1248, 492, 1177, 2033, 70, 761, 2471, 70, 1718, 67, 353, 392, 70, 2214, 1177, 2478, 67, 392, 761, 2033, 2102, 70, 1281, 67, 67, 2025, 198]\n",
    "print(\"This is my encoded message:\", Encode(n,e,message_a))\n",
    "print(\"This is my decoded message:\", Decode(n,d,message_a_code))\n",
    "\n",
    "#Student Reply\n",
    "Message_1 = [506, 1718, 70, 2206, 574, 652, 877, 70, 2488, 2353, 2488, 862, 70, 2033, 2102, 2097, 2033, 1281, 67, 67, 2025, 1076, 70, 67, 2214, 70, 1665, 67, 353, 392, 2471, 2102, 1705]\n",
    "print(\"This is the student reply:\", Decode(n,d,Message_1))"
   ]
  },
  {
   "cell_type": "markdown",
   "metadata": {},
   "source": [
    "### 6. Write a Narrative (TWO pages of meaningful narrative about your process - not including the examples - about 800 words) here in this block.\n",
    "\n",
    "* Describe your process. Did you plan ahead? Did you wing it? Do you wish you'd planned ahead more?\n",
    "\n",
    "* Describe the results of exchanging keys and codes with classmates. Did it work the first time or did you need to make adjustments.Describe your process. Did you plan ahead? Did you wing it? Do you wish you'd planned ahead more?\n",
    "\n",
    "* What was most challenging? \n",
    "\n",
    "* Who helped you with your project?  Which resources were most helpful?\n",
    "\n",
    "* What was your Best Mistake? (funniest? most frustrating? the one you learned the most from?)\n",
    "\n",
    "\n"
   ]
  },
  {
   "cell_type": "markdown",
   "metadata": {},
   "source": [
    "For this project, I planned ahead a little bit. I began working on the project by looking over the whole project and seeing where I could start on it. The basic tool set was where I started because it seemed like something I could tackle right off the bat without having to learn much to code it. I coded these sections based on my current knowledge and of course it didn't work at first. After looking at documentation to clarify what ord and bin functions were, I was able to somewhat easily code up the three functions. With the first and second tool sets as well as the Encode and Decode function sets, I used the skills gained in the Mastery Workbooks to help guide my code. Again, I tried to code these things off my knowledge alone, but found out if I planned my code out and thought through it that I was able to have a clearer understanding of what was going on in the code. This helped me with debugging.\n",
    "\n",
    "Exchanging codes with classmates was by far the best part of the project! The first time I tried to decode the test message, it came out as jumbled characters. After some debugging, it turned out the error was that the professor forgot to add a 3 to the end of the private key. Once I added that, the test message came out fine. Exchanging codes after that was a breeze and everything worked on the first try. With exchanging the codes, I winged it in the sense that I went with the messages that came out on the first try, but this was only because I trusted the process that I had developed. I was strict about making sure my code worked with several test examples that I knew the answers to, so I was able to trust the code I wrote. This in turn helped me be confident that the messages would work out on the first try. This strategy paid off. It worked out in the end.\n",
    "\n",
    "The most challenging aspect of the project was creating the code for the private key. I really struggled with understanding how to implement the Extended_Euclidean_Alg(EEA) function. Coding the EEA was relatively simple because I took inspiration from Sriram's version of the algorithm from the class videos and that helped a lot. However, not matter what I tried, I couldn't figure out where to put the EEA in the Find_Private_Key_d function. Eventually after sleuthing and looking through the textbook to find hints on how a private key algorithm should work as well as planning the code for a very long time, I was able to get the code to work the way I wanted it to. I made multiple mistakes, and had to start over a lot, but was able to get the code to work even though I had to step away from it many times.\n",
    "\n",
    "It may sound cliche, but the book and the internet helped me with the project. The book really helped me by showing examples of various processes to go through for many of the functions that were used in the project. Sitting with definitions and working and reworking examples helped me a lot. As for the internet, being able to look up Python documentation was a huge help in being able to make charts, graphs, and use functions I previously hadn't used before. Additionally, looking up minute details, such as how to switch code blocks to markdown and looking at examples of what while loops do were helpful in me understanding how to work certain parts of the project.\n",
    "\n",
    "My best mistake was repeatedly forgetting to put the end parenthese on my print statement's. I am not sure why I kept doing this, but when there were multiple parentheses such as printing the output of a function, I kept forgetting to put one last parenthese on the end. I found this amusing, if not a little frustrating that I kept repeating this mistake. What I learned from this was to always double check print statements for the correct number of parentheses. I also learned that it is best that you make a variable for a function (such as decoded = Decode(n, d, message)) and then put that variable in the print statement. While I don't necessarily follow this in this project, because I double checked my parentheses, I plan on doing this in future projects."
   ]
  },
  {
   "cell_type": "markdown",
   "metadata": {},
   "source": [
    "### 7. FME Exploration - (CODE INTERVIEW type question)\n",
    "\n",
    "\n",
    "\n",
    "* Explain in detail why RSA needs to use an FME function and cannot just simply use the Python Mod function % .\n",
    "\n",
    "* Provide some specific examples and/or include chart and graphs. \n",
    "\n",
    "* You may use your arguments/work from the Number Theory Mastery Workbook.\n",
    "\n",
    "\n"
   ]
  },
  {
   "cell_type": "markdown",
   "metadata": {},
   "source": [
    "#### Why We Need FME \n",
    "We need an FME function because it runs exponentially faster than a non-FME (i.e. NOT_FME) function for larger datasets. This can be seen in the below graphs and charts that illustrate that as n (that is the product of two different primes p and q) and a (the base number that has the exponent, n attached to it) get larger, the NOT_FME function increases exponentially past a certain number, surpassing the runtime of the FME function, which stays somewhat constant and increases at a slower rate than the NOT_FME function. A larger runtime is not better as it takes a long time to go through and run the code. The longer runtime could even cause an error on some machines if it is too large and long. \n",
    "\n",
    "For small datasets, however, a NOT_FME function could be faster, depending on how small the datasets are. However, within RSA, there is usually a large volume of data that needs to be encrypted and decrypted quickly, thus the FME function is a better choice for RSA.\n",
    "\n",
    "NOTE: My work below came from my work in the Mastery Workbook Number Theory and Primes"
   ]
  },
  {
   "cell_type": "markdown",
   "metadata": {},
   "source": [
    "##### Table and graph for n: the exponent in a^n mod m"
   ]
  },
  {
   "cell_type": "code",
   "execution_count": 20,
   "metadata": {},
   "outputs": [
    {
     "name": "stdout",
     "output_type": "stream",
     "text": [
      "                 0           1            2             3\n",
      "n        10.000000  100.000000  1000.000000  10000.000000\n",
      "FME       0.001262    0.001878     0.002606      0.003024\n",
      "NOT_FME   0.000475    0.001078     0.018938      0.671080\n"
     ]
    },
    {
     "data": {
      "image/png": "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\n",
      "text/plain": [
       "<Figure size 640x480 with 1 Axes>"
      ]
     },
     "metadata": {},
     "output_type": "display_data"
    }
   ],
   "source": [
    "#getting ready to graph\n",
    "import matplotlib.pyplot as plt\n",
    "from time import perf_counter\n",
    "import pandas as pd\n",
    "\n",
    "#define NOT_FME for comparison with FME\n",
    "def NOT_FME(a,n,m):\n",
    "    a_to_n = pow(a,n)\n",
    "    return a_to_n % m\n",
    "\n",
    "m = 5\n",
    "b = 580\n",
    "n_repeat = 1000\n",
    "\n",
    "# setup for n table and graph\n",
    "n_values = [10,100,1000,10000]\n",
    "delta_times1 = []\n",
    "delta_times2 = []\n",
    "# for each value in n_values run a timer for FME and NOT_FME functions to check runtime and add this to the lists delta_times1 and delta_times2 respectively\n",
    "for n in n_values:\n",
    "    timer1 = perf_counter()\n",
    "    for _ in range(n_repeat):\n",
    "        FME(b,n,m)\n",
    "    timer2 = perf_counter()\n",
    "    delta_t = timer2-timer1\n",
    "    delta_times1.append(delta_t)\n",
    "\n",
    "    timer3 = perf_counter()\n",
    "    for _ in range(n_repeat):\n",
    "        NOT_FME(b,n,m)\n",
    "    timer4 = perf_counter()\n",
    "    delta_t1 = timer4-timer3\n",
    "    delta_times2.append(delta_t1)\n",
    "\n",
    "# making a graph and table with labels\n",
    "plt.loglog(n_values,delta_times1)\n",
    "plt.loglog(n_values,delta_times2)\n",
    "plt.legend(['FME','NOT_FME'])\n",
    "plt.xlabel('n')\n",
    "plt.ylabel('Run time')\n",
    "table = pd.DataFrame((n_values,delta_times1,delta_times2),('n','FME','NOT_FME'))\n",
    "print(table)"
   ]
  },
  {
   "cell_type": "markdown",
   "metadata": {},
   "source": [
    "##### Table and Graph for a: base in a^n mod m"
   ]
  },
  {
   "cell_type": "code",
   "execution_count": 21,
   "metadata": {},
   "outputs": [
    {
     "name": "stdout",
     "output_type": "stream",
     "text": [
      "                 0           1            2             3\n",
      "a        10.000000  100.000000  1000.000000  10000.000000\n",
      "FME       0.002694    0.002370     0.002335      0.002344\n",
      "NOT_FME   0.002084    0.005073     0.009177      0.014757\n"
     ]
    },
    {
     "data": {
      "image/png": "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\n",
      "text/plain": [
       "<Figure size 640x480 with 1 Axes>"
      ]
     },
     "metadata": {},
     "output_type": "display_data"
    }
   ],
   "source": [
    "n = 561\n",
    "\n",
    "# setup for a table and graph\n",
    "a_values = [10,100,1000,10000]\n",
    "delta_times3 = []\n",
    "delta_times4 = []\n",
    "# for each value in a_values run a timer for FME and NOT_FME functions to check runtime and add this to the lists delta_times3 and delta_times4 respectively\n",
    "for a in a_values:\n",
    "    timer5 = perf_counter()\n",
    "    for _ in range(n_repeat):\n",
    "        FME(a,n,m)\n",
    "    timer6 = perf_counter()\n",
    "    delta_t2 = timer6-timer5\n",
    "    delta_times3.append(delta_t2)\n",
    "\n",
    "    timer7 = perf_counter()\n",
    "    for _ in range(n_repeat):\n",
    "        NOT_FME(a,n,m)\n",
    "    timer8 = perf_counter()\n",
    "    delta_t3 = timer8-timer7\n",
    "    delta_times4.append(delta_t3)\n",
    "\n",
    "# making a graph and table with labels\n",
    "plt.figure()\n",
    "plt.loglog(a_values,delta_times3)\n",
    "plt.loglog(a_values,delta_times4)\n",
    "plt.legend(['FME','NOT_FME'])\n",
    "plt.xlabel('a')\n",
    "plt.ylabel('Run time')\n",
    "table1 = pd.DataFrame((a_values,delta_times3,delta_times4),('a','FME','NOT_FME'))\n",
    "print(table1)"
   ]
  },
  {
   "cell_type": "markdown",
   "metadata": {},
   "source": [
    "## CODE BREAKING ##\n",
    "\n",
    "This section of the project is only available to students exchanging codes by the Friday (midnight) before the project is due.\n",
    "\n",
    "After you have tested your RSA package yourself, and tested it with classmates by publishing both the private and public keys on Piazza, post 2 messages with just the public keys for people to break on the \"Just Public Keys\" thread - use both very small n ‘s (under 1000) for practice, and some with a challenge.\n",
    "\n",
    "\n",
    "**Implementing a factoring algorithm:**\n",
    "\n",
    "Begin by coding the basic brute force factorization algorithm given in pseudocode below.\n",
    "\n",
    "Brute Force Factoring\n",
    "<pre><code>def factorize(n):\n",
    "    # n is a number, return the smallest factor of n\n",
    "    for i from 2 to n-1:\n",
    "        if i divides n:\n",
    "            return i\n",
    "        return FALSE\n",
    "        </code></pre>\n"
   ]
  },
  {
   "cell_type": "code",
   "execution_count": 22,
   "metadata": {},
   "outputs": [
    {
     "name": "stdout",
     "output_type": "stream",
     "text": [
      "False\n",
      "2\n",
      "2\n",
      "3\n",
      "5\n",
      "2\n"
     ]
    }
   ],
   "source": [
    "#Brute Force factoring based on algorithm given in pseudocode\n",
    "def factorize(n):\n",
    "    # n is a number, return smallest factor of n\n",
    "    #start at 2 because 1 goes into everything, and we are looking for the smallest factor that isn't 1\n",
    "    for i in range(2, n):\n",
    "        # if i divides n, return i\n",
    "        if n % i == 0:\n",
    "            return i\n",
    "    return False\n",
    "\n",
    "#Tests for function\n",
    "print(factorize(3))\n",
    "print(factorize(10))\n",
    "print(factorize(50))\n",
    "print(factorize(9))\n",
    "print(factorize(25))\n",
    "print(factorize(22))"
   ]
  },
  {
   "cell_type": "markdown",
   "metadata": {
    "tags": []
   },
   "source": [
    "### 8. How to Break Code. \n",
    "* Explain in detail how breaking works in this text block. \n",
    "* What are the complete steps? What tools do you need?\n",
    "* How secure is RSA? Why is it difficult to break codes in RSA? \n",
    "* Is our implementation of RSA secure? What are it's flaws?\n",
    "\n",
    "\n",
    "\n",
    "\n",
    "\n",
    "\n",
    "\n"
   ]
  },
  {
   "cell_type": "markdown",
   "metadata": {},
   "source": [
    "The steps to break RSA are as follows:\n",
    "* 1. Copy the public key and cipher into the code environment.\n",
    "* 2. Create and use a facotorization function to find the smallest integer (p) that is a factor of the n provided. Here, we used a brute force factoring function based on what was given in pseudocode.\n",
    "* 3. Use the newly found p to divide the given n to find the second factor, q.\n",
    "* 4. Find the private key (d) by using a previously defined Find_Private_Key_d function that takes the given e and the newly found p and q factors as arguments.\n",
    "* 5. Decode the coded message using the previously defined Decode function using the arguments of the given n, the newly found d, and the cipher/message.\n",
    "* 6. Create a response message as string text and then encode it by using the previously defined Encode function with the arguments of the given n, e and the new response message.\n",
    "* 7. Check to make sure the response message is properly encoded by decoding it using the Decode function with the arguments of the given n, the d, and the resonse message.\n",
    "\n",
    "RSA is fairly secure. It is difficult to break codes in RSA because it stems from using very big prime numbers that fit together in a format that makes it hard to decode if one doesn't have the private key. There are many possible combinations of factors for big numbers that make it take a long time to decode, sometimes days, months, or years! The larger the n, the more secure RSA is because it takes a longer time to factor out p and q in order to find the private key, and then decrypt a message. \n",
    "\n",
    "Our implementation of RSA is secure if we use large ns but if we use smaller ns, it isn't very secure. The flaw lies in the more simple the n, the faster the private key can be found to decode the message. For very large n, over twelve digits, it takes much longer to decode the messages and find the private keys. Additionally, another flaw is that the smaller the n, the smaller the e is, which makes it vulnerable to attacks due to it being easy to encrypt something that many times with the same exponent (based off the Chinese Remainder Theroem) and be able to decode the message/messages."
   ]
  },
  {
   "cell_type": "markdown",
   "metadata": {},
   "source": [
    "### 9. Decode!  Use a mix of text and code blocks\n",
    "\n",
    "* Decode one example from Piazza in detial showing all the steps.\n",
    "* Decode and Respond to 3 \"just codes with public keys\" in Piazza with different sizes of n. Include complete results here.\n",
    "* What did you notice about larger n s?\n",
    "\n",
    "I noticed that larger ns took longer to break and were more secure for RSA. Smaller ns took a few seconds to break while larger ns took progressively longer to break. This leads me to believe that the larger the n, the more secure the encryption in RSA."
   ]
  },
  {
   "cell_type": "markdown",
   "metadata": {},
   "source": [
    "#### **Decode DEMO**\n",
    "\n",
    "**First**: We copy the message and key from Piazza and insert it into a code block."
   ]
  },
  {
   "cell_type": "code",
   "execution_count": 23,
   "metadata": {},
   "outputs": [],
   "source": [
    "#Public Key, e, and n, a product of two different primes\n",
    "n, e = 703, 113  \n",
    "\n",
    "#Cipher as list of integers\n",
    "Cipher = [544, 472, 233, 242, 250, 555, 591, 550, 376, 364, 210, 165, 526, 47, 555, 95, 476, 210, 242, 165, 95, 233, 526, 210, 376, 95, 233, 242, 364, 210, 242, 224, 376, 95, 364, 233, 47, 242, 210, 555, 376, 165, 472, 242, 555, 410, 242, 250, 95, 233, 233, 47, 145]"
   ]
  },
  {
   "cell_type": "markdown",
   "metadata": {},
   "source": [
    "**Second**: We use the factorize function to find the smallest factor of n."
   ]
  },
  {
   "cell_type": "code",
   "execution_count": 24,
   "metadata": {},
   "outputs": [
    {
     "name": "stdout",
     "output_type": "stream",
     "text": [
      "19\n"
     ]
    }
   ],
   "source": [
    "#use previously defined factorization function to get the smallest integer of n, p1\n",
    "p1 = factorize(n)\n",
    "print(p1)"
   ]
  },
  {
   "cell_type": "markdown",
   "metadata": {},
   "source": [
    "**Third**: Since n is the product of two different prime numbers p and q, find q by dividing n by p. NOTE: We use p1 and q1 in this case for the sake of keeping variable names separate from previous p and q variables."
   ]
  },
  {
   "cell_type": "code",
   "execution_count": 25,
   "metadata": {},
   "outputs": [
    {
     "name": "stdout",
     "output_type": "stream",
     "text": [
      "37\n"
     ]
    }
   ],
   "source": [
    "#assign q1 to output of integer division of n by p1\n",
    "q1 = n // p1 \n",
    "print(q1)"
   ]
  },
  {
   "cell_type": "markdown",
   "metadata": {},
   "source": [
    "**Fourth**: Find the private key using the Find_Private_Key_d function using the given e (public key) and newly found p1 and q1 variables."
   ]
  },
  {
   "cell_type": "code",
   "execution_count": 26,
   "metadata": {},
   "outputs": [
    {
     "name": "stdout",
     "output_type": "stream",
     "text": [
      "281\n"
     ]
    }
   ],
   "source": [
    "#assign d1 to function Find_Private_Key_d output \n",
    "d1 = Find_Private_Key_d(e, p1, q1)\n",
    "print(d1)"
   ]
  },
  {
   "cell_type": "markdown",
   "metadata": {},
   "source": [
    "**Fifth**: We use the Decode function to decode the cipher."
   ]
  },
  {
   "cell_type": "code",
   "execution_count": 27,
   "metadata": {},
   "outputs": [
    {
     "name": "stdout",
     "output_type": "stream",
     "text": [
      "The Conquistador's treasure is buried south of Creed.\n"
     ]
    }
   ],
   "source": [
    "#assign message_decoded to the output of the Decode function using the parameters defined\n",
    "message_decoded = Decode(n, d1, Cipher)\n",
    "print(message_decoded)"
   ]
  },
  {
   "cell_type": "markdown",
   "metadata": {},
   "source": [
    "**Sixth**: Respond to the message by encoding string text."
   ]
  },
  {
   "cell_type": "code",
   "execution_count": 28,
   "metadata": {},
   "outputs": [
    {
     "name": "stdout",
     "output_type": "stream",
     "text": [
      "[250, 555, 555, 90, 157, 242, 364, 210, 242, 165, 472, 233, 95, 233, 242, 88, 555, 90, 47, 195]\n"
     ]
    }
   ],
   "source": [
    "# Write a response message and encode it using the public and private keys that were given and found previously\n",
    "message = \"Cool, is there gold?\"\n",
    "message_encoded = Encode(n, e, message)\n",
    "print(message_encoded)"
   ]
  },
  {
   "cell_type": "markdown",
   "metadata": {},
   "source": [
    "**Seventh**: Decode the response message to double check it is the message you want to respind with."
   ]
  },
  {
   "cell_type": "code",
   "execution_count": 29,
   "metadata": {},
   "outputs": [
    {
     "name": "stdout",
     "output_type": "stream",
     "text": [
      "Cool, is there gold?\n"
     ]
    }
   ],
   "source": [
    "#Decode the response message to check if it says what it is supposed to\n",
    "message_decoded_2 = Decode(n, d1, message_encoded)\n",
    "print(message_decoded_2)"
   ]
  },
  {
   "cell_type": "markdown",
   "metadata": {},
   "source": [
    "#### Other Code Breaking Examples:"
   ]
  },
  {
   "cell_type": "markdown",
   "metadata": {},
   "source": [
    "##### Decoded message 1: Professor Stade's Message"
   ]
  },
  {
   "cell_type": "code",
   "execution_count": 55,
   "metadata": {},
   "outputs": [
    {
     "name": "stdout",
     "output_type": "stream",
     "text": [
      "47783 11\n",
      "34211\n",
      "[32081, 47096, 43316, 4166, 7577, 33839, 33839, 11883, 20436, 15143, 11747, 33839, 4166, 15143, 26715, 4166, 5830, 5228, 3312, 11747, 4166, 20436, 33080, 11747, 11747, 23351, 11747, 4166, 26862, 26167]\n",
      "71\n",
      "673\n",
      "I'm addicted to blue cheese :)\n",
      "This is p2: 349\n",
      "This is q2: 373\n",
      "This is the private key: 59749\n",
      "This is the original decoded message: The best thing about a Boolean is even if you are wrong, you are only off by a bit.\n",
      "This is the encoded response message: [93219, 15927, 110238, 29228, 71285, 84628, 38783, 37298, 37298, 29228, 10510, 71285, 90769, 71285, 86792, 90170, 38783, 100459, 48594, 15927, 38831, 71285, 767, 38946, 71285, 48594, 90170, 110238, 38831, 124788]\n",
      "This is the decoded response message: Very funny. I laughed so hard!\n"
     ]
    }
   ],
   "source": [
    "p = 71\n",
    "q = 673\n",
    "\n",
    "n, e = Find_Public_Key_e(p, q)\n",
    "print(n, e)\n",
    "\n",
    "d = Find_Private_Key_d(e, p, q)\n",
    "print(d)\n",
    "\n",
    "\n",
    "# n, e = 171 , 5 #public\n",
    "# d = 45\n",
    "\n",
    "Message = \"I'm addicted to blue cheese :)\"\n",
    "\n",
    "Cipher2 = Encode(n, e, Message)\n",
    "print(Cipher2)\n",
    "p_1 = factorize(n)\n",
    "print(p_1)\n",
    "q_1 = n // p_1\n",
    "print(q_1)\n",
    "\n",
    "print(Decode(n, d, Cipher2))\n",
    "\n",
    "\n",
    "\n",
    "\n",
    "\n",
    "\n",
    "#Decode message1: Professor Stade's message 2\n",
    "n, e = 130177, 13      #Public Key\n",
    "\n",
    "Cipher1 = [85308, 48594, 15927, 71285, 61037, 15927, 767, 23406, 71285, 23406, 48594, 12676, 37298, 100459, 71285, 90170, 61037, 38946, 38783, 23406, 71285, 90170, 71285, 113492, 38946, 38946, 86792, 15927, 90170, 37298, 71285, 12676, 767, 71285, 15927, 121493, 15927, 37298, 71285, 12676, 84628, 71285, 29228, 38946, 38783, 71285, 90170, 110238, 15927, 71285, 81798, 110238, 38946, 37298, 100459, 126494, 71285, 29228, 38946, 38783, 71285, 90170, 110238, 15927, 71285, 38946, 37298, 86792, 29228, 71285, 38946, 84628, 84628, 71285, 61037, 29228, 71285, 90170, 71285, 61037, 12676, 23406, 10510]\n",
    "\n",
    "#assign p2 to output of factorize function with the given n\n",
    "p2 = factorize(n)\n",
    "print(\"This is p2:\", p2)\n",
    "\n",
    "#assign q2 to putput of integer division of given n and recently found p2\n",
    "q2 = n // p2\n",
    "print(\"This is q2:\", q2)\n",
    "\n",
    "#assign d2 to output of Find_Private_Key_d function using the previosuly given e and the newly found p2 and q2\n",
    "d2 = Find_Private_Key_d(e, p2, q2)\n",
    "print(\"This is the private key:\", d2)\n",
    "\n",
    "#Decode the message using the decode function and the given n and cipher as well as the newly found d2\n",
    "decoded_message_1 = Decode(n, d2, Cipher1)\n",
    "print(\"This is the original decoded message:\", decoded_message_1)\n",
    "\n",
    "#Write a response message, encode it using the given n and e, then decode it to check it is the same message\n",
    "response_message1 = \"Very funny. I laughed so hard!\"\n",
    "encoded_message_1 = Encode(n, e, response_message1)\n",
    "print(\"This is the encoded response message:\", encoded_message_1)\n",
    "decoded_message_1a = Decode(n, d2, encoded_message_1)\n",
    "print(\"This is the decoded response message:\", decoded_message_1a)"
   ]
  },
  {
   "cell_type": "markdown",
   "metadata": {},
   "source": [
    "##### Decoded message 2: Thomas's message"
   ]
  },
  {
   "cell_type": "code",
   "execution_count": 31,
   "metadata": {},
   "outputs": [
    {
     "name": "stdout",
     "output_type": "stream",
     "text": [
      "This is p3: 5233\n",
      "This is q3: 5717\n",
      "This is the private key: 22836599\n",
      "This is the original decoded message: Jenny's prime is probably my favorite.  8675309.  Thanks Tommy Tutone!\n",
      "This is the encoded response message: [25949767, 29026233, 15040546, 6341542, 25597531, 9078012, 23615321, 6341542, 12008286, 9078012, 6341542, 23615321, 29026233, 13788306, 17453490, 6341542, 28836202, 6341542, 5831276, 28836202, 29334782, 29334782, 9066565, 20457492, 6341542, 3102918, 29026233, 25597531, 9078012, 15992531, 15992531, 15992531, 6341542, 25650273, 5831276, 29026233, 12008286, 6341542, 11338336, 9066565, 28615097, 9066565, 17441500, 9078012, 23615321, 9066565, 28836202, 5038309, 6341542, 18130005, 6341542, 25650273, 29026233, 5831276, 20457492, 6341542, 18510993, 29026233, 25597531, 25597531, 9066565, 17453490, 985919, 15004415, 6341542, 18510993, 29026233, 25597531, 29026233, 5831276, 28836202, 23615321, 29026233, 6341542, 5831276, 9078012, 985919, 20457492, 28836202, 15040546, 5831276, 28836202, 17453490, 20457492, 15004415, 6341542, 15697184, 29026233, 20457492, 28836202, 25597531, 25597531, 14264532, 6341542, 24846263, 9668251, 24523837, 985919, 6341542, 2341327, 9066565, 19872317, 19872317, 28836202, 15004415, 6341542, 15040546, 985919, 9078012, 985919, 6341542, 805296, 25926241, 13422262, 18965502, 29650399, 9668251, 13422262, 24846263, 12106619, 29650399, 13422262, 23100921, 13584848, 9668251, 18965502, 6341542, 28836202, 985919, 6341542, 17441500, 28836202, 5831276, 20457492, 6341542, 29026233, 11639104, 6341542, 9066565, 20457492, 985919, 6341542, 25926241, 18965502, 24846263, 9668251, 985919, 6341542, 20457492, 3102918, 9078012, 12008286, 9078012, 15992531]\n",
      "This is the decoded response message: You led me down a rabbit hole... From Wikipedia: A Fort Collins, Colorado restaurant, Totally 80's Pizza, uses +1-970-867-5309 as part of its 1980s theme.\n"
     ]
    }
   ],
   "source": [
    "#Decode message2: Thomas's message\n",
    "n, e = 29917061, 8684999 #Public Key\n",
    "\n",
    "Cipher2 = [22287915, 9078012, 17453490, 17453490, 14264532, 24523837, 985919, 6341542, 17441500, 5831276, 9066565, 12008286, 9078012, 6341542, 9066565, 985919, 6341542, 17441500, 5831276, 29026233, 29334782, 28836202, 29334782, 25597531, 14264532, 6341542, 12008286, 14264532, 6341542, 11639104, 28836202, 7800891, 29026233, 5831276, 9066565, 20457492, 9078012, 15992531, 6341542, 6341542, 24846263, 12106619, 29650399, 23100921, 13584848, 9668251, 18965502, 15992531, 6341542, 6341542, 15697184, 3102918, 28836202, 17453490, 28615097, 985919, 6341542, 15697184, 29026233, 12008286, 12008286, 14264532, 6341542, 15697184, 15040546, 20457492, 29026233, 17453490, 9078012, 22072925]\n",
    "\n",
    "#assign p3 to output of factorize function with the given n\n",
    "p3 = factorize(n)\n",
    "print(\"This is p3:\", p3)\n",
    "\n",
    "#assign q3 to putput of integer division of given n and recently found p3\n",
    "q3 = n // p3\n",
    "print(\"This is q3:\",q3)\n",
    "\n",
    "#assign d3 to output of Find_Private_Key_d function using the previosuly given e and the newly found p3 and q3\n",
    "d3 = Find_Private_Key_d(e, p3, q3)\n",
    "print(\"This is the private key:\", d3)\n",
    "\n",
    "#Decode the message using the decode function and the given n and cipher as well as the newly found d2\n",
    "decoded_message_2 = Decode(n, d3, Cipher2)\n",
    "print(\"This is the original decoded message:\", decoded_message_2)\n",
    "\n",
    "#Write a response message, encode it using the given n and e, then decode it to check it is the same message\n",
    "response_message2 = \"You led me down a rabbit hole... From Wikipedia: A Fort Collins, Colorado restaurant, Totally 80's Pizza, uses +1-970-867-5309 as part of its 1980s theme.\"\n",
    "encoded_message_2 = Encode(n, e, response_message2)\n",
    "print(\"This is the encoded response message:\", encoded_message_2)\n",
    "decoded_message_2a = Decode(n, d3, encoded_message_2)\n",
    "print(\"This is the decoded response message:\", decoded_message_2a)\n"
   ]
  },
  {
   "cell_type": "markdown",
   "metadata": {},
   "source": [
    "##### Decoded Message 3: Ebrahim's message"
   ]
  },
  {
   "cell_type": "code",
   "execution_count": 32,
   "metadata": {},
   "outputs": [
    {
     "name": "stdout",
     "output_type": "stream",
     "text": [
      "This is p4: 151\n",
      "This is q4: 293\n",
      "This is the private key: 37543\n",
      "This is the original decoded message: The answer to life, the universe, and everything is: 42.\n",
      "This is the encoded response message: [26976, 22886, 37331, 32609, 14335, 14335, 22886, 12751, 23616, 13887, 15971, 10095, 5166, 20597, 20850, 22886, 20406, 23616, 5166, 37331, 3687, 5166, 37331, 14335, 23616, 5166, 20597, 10909, 29541, 10909, 8085, 14634, 14127, 5166, 11297, 22886, 32609, 23616, 1694]\n",
      "This is the decoded response message: Hitchhiker's Guide to the Galaxy, nice!\n"
     ]
    }
   ],
   "source": [
    "#Decode message3: Ebrahim's message\n",
    "n, e = 44243, 7\n",
    "\n",
    "Cipher3 = [2694, 14335, 23616, 5166, 10909, 11297, 10095, 16427, 23616, 13887, 5166, 37331, 3687, 5166, 29541, 22886, 30381, 23616, 14127, 5166, 37331, 14335, 23616, 5166, 20850, 11297, 22886, 38925, 23616, 13887, 10095, 23616, 14127, 5166, 10909, 11297, 20406, 5166, 23616, 38925, 23616, 13887, 14634, 37331, 14335, 22886, 11297, 40714, 5166, 22886, 10095, 44189, 5166, 31566, 27120, 39024]\n",
    "\n",
    "#assign p4 to output of factorize function with the given n\n",
    "p4 = factorize(n)\n",
    "print(\"This is p4:\", p4)\n",
    "\n",
    "#assign q4 to putput of integer division of given n and recently found p4\n",
    "q4 = n // p4\n",
    "print(\"This is q4:\",q4)\n",
    "\n",
    "#assign d4 to output of Find_Private_Key_d function using the previosuly given e and the newly found p4 and q4\n",
    "d4 = Find_Private_Key_d(e, p4, q4)\n",
    "print(\"This is the private key:\", d4)\n",
    "\n",
    "#Decode the message using the decode function and the given n and cipher as well as the newly found d2\n",
    "decoded_message_3 = Decode(n, d4, Cipher3)\n",
    "print(\"This is the original decoded message:\", decoded_message_3)\n",
    "\n",
    "#Write a response message, encode it using the given n and e, then decode it to check it is the same message\n",
    "response_message3 = \"Hitchhiker's Guide to the Galaxy, nice!\"\n",
    "encoded_message_3 = Encode(n, e, response_message3)\n",
    "print(\"This is the encoded response message:\", encoded_message_3)\n",
    "decoded_message_3a = Decode(n, d4, encoded_message_3)\n",
    "print(\"This is the decoded response message:\", decoded_message_3a)"
   ]
  },
  {
   "cell_type": "markdown",
   "metadata": {},
   "source": [
    "\n",
    "\n",
    "\n"
   ]
  },
  {
   "cell_type": "markdown",
   "metadata": {},
   "source": [
    "\n",
    "### 10. Custom CODE Feature ##\n",
    "The custom feature should be a \"Stand Alone\" feature at the end of the notebook. If you want to use code from above, please copy the functions again as part of your feature so it can be tested independently. Be sure to provide a demonstration showing that it works. See RSA Guide for more information and suggestions. \n",
    "\n",
    "**Do not forget the self-grading element.**\n"
   ]
  },
  {
   "cell_type": "code",
   "execution_count": 33,
   "metadata": {},
   "outputs": [
    {
     "name": "stdout",
     "output_type": "stream",
     "text": [
      "What song best describes the feeling you get when your RSA code is working?\n",
      "Let's see if this thing works. What's your favorite pizza topping?\n",
      "If you could be a professional athlete, which sport would it be in?\n"
     ]
    }
   ],
   "source": [
    "#Convert list of integers to string text\n",
    "def Convert_Num(_list):\n",
    "    \"\"\"\n",
    "    Do the opposite of what you did in the Convert_Text\n",
    "    function defined above.\n",
    "    \n",
    "    Define this function such that it takes in a list of integers\n",
    "    and outputs the corresponding string (ascii).\n",
    "    \n",
    "    For example:\n",
    "    _list = [104, 101, 108, 108, 111]\n",
    "    _string = hello\n",
    "    \"\"\"\n",
    "    _string = ''\n",
    "    # each number in the list is converted to a character by ascii guidelines\n",
    "    for integer in _list:\n",
    "        _string += chr(integer)\n",
    "    return _string\n",
    "\n",
    "\n",
    "#Convert list of integers to string text using n (a positive integer that is the product of two different primes p and q)  and d (decryption key)\n",
    "def Decode(n, d, cipher_text):\n",
    "    \"\"\"\n",
    "    Here, the cipher_text will be a list of integers.\n",
    "    First, you will decrypt each of those integers using \n",
    "    n and d.\n",
    "    \n",
    "    Later, you will need to use the function Convert_Num from the \n",
    "    basic toolset to recover the original message as a string. \n",
    "    \n",
    "    \"\"\"\n",
    "    decrypted_nums = []\n",
    "    \n",
    "    message = ''\n",
    "    \n",
    "    #for loop that takes an integer in cipher_text and raises it to power d then mods it by n and adds that result to the decrypted nums list\n",
    "    for cipher_num in cipher_text:\n",
    "        original_num = pow(cipher_num, d, n)\n",
    "        decrypted_nums.append(original_num)\n",
    "    \n",
    "    #convert integers to string message\n",
    "    message = Convert_Num(decrypted_nums)\n",
    "    return message\n",
    "\n",
    "\n",
    "\n",
    "#function for reading scripts from piazza\n",
    "def Piazza_Script_Reader(filename):\n",
    "    #Idea for fixing the exec() function by using a dictionary: https://stackoverflow.com/questions/15086040/behavior-of-exec-function-in-python-2-and-python-3\n",
    "    \n",
    "    #Open and read the file\n",
    "    f = open(filename, \"r\")\n",
    "    file_contents = f.read()\n",
    "    \n",
    "    #Run file_contents like it's python code and execute string as python code using a dictionary as needed by putting the exec() function inside another function\n",
    "    namespace = {}\n",
    "    exec(file_contents, namespace)\n",
    "    \n",
    "    # Decode the message by using the dictionary versions of n,d, and Message \n",
    "    decoded_message = Decode(namespace['n'], namespace['d'], namespace['Message'])\n",
    "    return decoded_message\n",
    "\n",
    "\n",
    "#Tests\n",
    "print(Piazza_Script_Reader(\"msg.txt\"))\n",
    "print(Piazza_Script_Reader(\"msg2.txt\"))\n",
    "print(Piazza_Script_Reader(\"msg3.txt\"))"
   ]
  },
  {
   "cell_type": "markdown",
   "metadata": {},
   "source": [
    "#### Custom Code DEMO\n",
    "\n",
    "**First**: Take a Piazza message and put it in a .txt file."
   ]
  },
  {
   "cell_type": "code",
   "execution_count": 34,
   "metadata": {},
   "outputs": [],
   "source": [
    "#put this all in a .txt file named msg.txt\n",
    "n,e = 5251, 3  #Public key\n",
    "n,d = 5251, 3403   #Private key\n",
    "Message = [2128, 1150, 4250, 1349, 1262, 3336, 2371, 2497, 519, 1262, 1263, 1105, 3336, 1349, 1262, 2310, 1105, 3336, 4115, 762, 2405, 1263, 1105, 3336, 1262, 1349, 1150, 1105, 1262, 506, 1105, 1105, 4723, 2405, 2497, 519, 1262, 1974, 2371, 58, 1262, 519, 1105, 1349, 1262, 4839, 1150, 1105, 2497, 1262, 1974, 2371, 58, 762, 1262, 13, 4679, 1573, 1262, 4115, 2371, 2310, 1105, 1262, 2405, 3336, 1262, 4839, 2371, 762, 1560, 2405, 2497, 519, 3250]"
   ]
  },
  {
   "cell_type": "markdown",
   "metadata": {},
   "source": [
    "**Second**: Decrypt a list of integers to string text using the Decode function and the positive integer, n (that is the product of two different primes p and q) and the decryption key, d as arguments for the function."
   ]
  },
  {
   "cell_type": "code",
   "execution_count": 35,
   "metadata": {},
   "outputs": [
    {
     "name": "stdout",
     "output_type": "stream",
     "text": [
      "What song best describes the feeling you get when your RSA code is working?\n"
     ]
    }
   ],
   "source": [
    "#decode the cipher_text using the Decode function with the previously established n and d\n",
    "cipher_text = [2128, 1150, 4250, 1349, 1262, 3336, 2371, 2497, 519, 1262, 1263, 1105, 3336, 1349, 1262, 2310, 1105, 3336, 4115, 762, 2405, 1263, 1105, 3336, 1262, 1349, 1150, 1105, 1262, 506, 1105, 1105, 4723, 2405, 2497, 519, 1262, 1974, 2371, 58, 1262, 519, 1105, 1349, 1262, 4839, 1150, 1105, 2497, 1262, 1974, 2371, 58, 762, 1262, 13, 4679, 1573, 1262, 4115, 2371, 2310, 1105, 1262, 2405, 3336, 1262, 4839, 2371, 762, 1560, 2405, 2497, 519, 3250]\n",
    "print(Decode(n, d, cipher_text))"
   ]
  },
  {
   "cell_type": "markdown",
   "metadata": {},
   "source": [
    "**Alternatively**: Use the custom function, Piazza_Script_Reader, to read scripts from Piazza that are put .txt files. This ensures that you can decrypt Piazza messages. This applies the second step to a .txt file."
   ]
  },
  {
   "cell_type": "code",
   "execution_count": 36,
   "metadata": {},
   "outputs": [
    {
     "data": {
      "text/plain": [
       "'What song best describes the feeling you get when your RSA code is working?'"
      ]
     },
     "execution_count": 36,
     "metadata": {},
     "output_type": "execute_result"
    }
   ],
   "source": [
    "#Call Piazza_Script_Reader to read a .txt file and decode the message\n",
    "Piazza_Script_Reader(\"msg.txt\")"
   ]
  },
  {
   "cell_type": "markdown",
   "metadata": {},
   "source": [
    "**Please use the grading guide below to self grade your Custom Feature.**\n",
    "\n",
    "GRADING FOR CUSTOM FEATURE:\n",
    "\n",
    "15 pts  Wow.  It is amazing.\n",
    "        Shows initiative and originality. \n",
    "        You did something extra special and pushed yourself.\n",
    "        You went beyond all expectations \n",
    "        You broke the rules in a creative way. \n",
    "        Your coding and commenting is exceptional.\n",
    "        Excellent \n",
    "\n",
    "10 - 14 points - It is GOOD! \n",
    "        You were a “self starter.” \n",
    "         You did everything  requested. \n",
    "        All expectations met. \n",
    "       \tYou did a very good job. \n",
    "        Good use of commenting.\n",
    "        Shows mastery of skills.\n",
    "\n",
    "5 -10 points  - Okay.\n",
    "        Minimum requirements.\n",
    "        Commenting weak.\n",
    "\n",
    "0 -5 points - It is not finished. \n",
    "          Does meet objectives. \n",
    "            Did not follow directions. \n",
    "            Chose not to do this part (which is a totally fine choice)\n"
   ]
  },
  {
   "cell_type": "markdown",
   "metadata": {},
   "source": [
    "## Self grading of custom feature ##\n",
    "\n",
    "Here in this block, please rate what score out of 15 your custom feature merits given the criteria above:\n",
    "\n",
    "* For example, if you are brand new to programming, using a main function could be an amazing feature - tell me how this helped you move to a new level.\n",
    "* In what ways did you push yourself? Did you try something you've never done before?\n",
    "* Alternatively, if you just did not have the time to do the custum feature, that is actually just fine and a reasonable choice for an adult. No judgment."
   ]
  },
  {
   "cell_type": "markdown",
   "metadata": {},
   "source": [
    "I give this feature a 14. This is because I chose a topic that seemed to make sense to me as something that would be useful to implement into the project. I pushed myself by learning about the exec function. Previously, I had no expereince with this and needed to make sure that the .txt files would run like code. I ran into a problem with the exec function, and I had to look up information to help solve this based on a 2013 Stack Overflow post ( https://stackoverflow.com/questions/15086040/behavior-of-exec-function-in-python-2-and-python-3). The problem was that the exec function usually runs as a global variable and I was trying to use it inside the function as a local variable. The output of the function with this problem was a jumbled mess of characters. The fix for this ended up being creating a dictionary within the function I was making (Piazza_Script_Reader) that I passed through the exec function. This ensured that the exec function was running through the dictionary, not focusing on being a local or global variable. Using the outside resource of the Stack Overflow post is why I deducted a point because I had to have some outside help besides looking at Python documentation to help me get the code working. Overall, I think I pushed myself in trying to debug with something I had no experience with before. In the future, I hope to learn more about the exec function as it seems, from my research, that it can be a quite tricky function to understand and know when to use it."
   ]
  },
  {
   "cell_type": "code",
   "execution_count": null,
   "metadata": {},
   "outputs": [],
   "source": []
  },
  {
   "cell_type": "code",
   "execution_count": null,
   "metadata": {},
   "outputs": [],
   "source": []
  }
 ],
 "metadata": {
  "kernelspec": {
   "display_name": "Python 3 (ipykernel)",
   "language": "python",
   "name": "python3"
  },
  "language_info": {
   "codemirror_mode": {
    "name": "ipython",
    "version": 3
   },
   "file_extension": ".py",
   "mimetype": "text/x-python",
   "name": "python",
   "nbconvert_exporter": "python",
   "pygments_lexer": "ipython3",
   "version": "3.10.8"
  }
 },
 "nbformat": 4,
 "nbformat_minor": 4
}
